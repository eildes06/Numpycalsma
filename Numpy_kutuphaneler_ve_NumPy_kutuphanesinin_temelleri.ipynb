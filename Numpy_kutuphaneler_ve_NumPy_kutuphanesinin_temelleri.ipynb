{
  "cells": [
    {
      "cell_type": "markdown",
      "metadata": {
        "id": "view-in-github",
        "colab_type": "text"
      },
      "source": [
        "<a href=\"https://colab.research.google.com/github/eildes06/Numpycalsma/blob/main/Numpy_kutuphaneler_ve_NumPy_kutuphanesinin_temelleri.ipynb\" target=\"_parent\"><img src=\"https://colab.research.google.com/assets/colab-badge.svg\" alt=\"Open In Colab\"/></a>"
      ]
    },
    {
      "cell_type": "markdown",
      "metadata": {
        "id": "dso_1Z_SvzMY"
      },
      "source": [
        "# KÜTÜPHANELER VE NumPy KÜTÜPHANESİ TEMELLERİ\n"
      ]
    },
    {
      "cell_type": "markdown",
      "metadata": {
        "id": "m6bc6wt7tdBw"
      },
      "source": [
        "# 1. Kütüphaneler ve Kütüphane Yükleme"
      ]
    },
    {
      "cell_type": "markdown",
      "metadata": {
        "id": "HVFPxMnitdBx"
      },
      "source": [
        "\n",
        "\n",
        "Python kütüphaneleri ve paketleri, günlük yaşamda belirli programlama ve veri yönetimi işlerimizi kolaylaştırmak adına hazır modülleri ve fonksiyonları barındırır. Kütüphanelerdeki bu hazır fonksiyonlar sayesinde, kod yazma hızımız ve pratikliğimiz artar. Python için yaklaşık 137 bin kütüphane ve 198 bin paket, program geliştiricilerin kullanımına açıktır. \n",
        "\n",
        "Veri yönetimi ve işleme, makine öğrenmesi (machine learning), veri görselleştirme, görüntü işleme, web'ten veri ayıklama, haritalama vb. amaçlarla oluşturulmuş kütüphanelerin kullanımı gittikçe yaygınlaşmaktadır. \n",
        "\n",
        "| Kütüphane     | İşlevi           | \n",
        "|--------------|----------------|\n",
        "| NumPy    | Çok boyutlu diziler ve matrisler|\n",
        "| pandas    | Veri analizi ve veri işleme | \n",
        "| matplotlib    | Veri görselleştirme| \n",
        "| keras    | Derin öğrenme   |\n",
        "| TensorFlow  | Makine öğrenmesi   | \n",
        "| scipy    | Bilimsel hesaplama ve teknik programlama| \n",
        "| SQLAlchemy  | SQL veri tabanı yönetimi   | \n",
        "| BeautifulSoup       | HTML ve XML dökümanlardan veri ayıklama    | \n",
        "| scikit-learn     | Makine öğrenmesi    | \n",
        "| seaborn      | Veri görselleştirme   | \n",
        "| bokeh      | Veri görselleştirme    | \n",
        "| PyGame       | Oyun geliştirme    | \n",
        "| PyTorch      | Makine öğrenmesi   | \n",
        "| GeoPandas      | Konumsal veri analizi ve haritalama    | \n",
        "| ArcPy      | Konumsal veri analizi    | \n",
        "| Shapely      | Geometrik şekil görselleştirme  | \n",
        "| Rasterio      | Raster veri analizi    | \n",
        "| folium      | Harita oluşturma    | \n",
        "\n",
        "Bu paketlerin yüklenebilmesi için __!pip install [paket ismi]__ komutunun kullanılması gerekmektedir. \n",
        "\n",
        "Bir kütüphanenin çalışması için, başka kütüphanelerin yüklü olması gerekebilir (Dependency). Örneğin, [matplotlib websayfasına](https://matplotlib.org/users/installing.html) baktığımızda, bu kütüphanenin 3.2.1 versiyonunun çalışması için Python (>= 3.6), FreeType (>= 2.3) ,libpng (>= 1.2), NumPy (>= 1.1),setuptools, cycler (>= 0.10.0), dateutil (>= 2.1), kiwisolver (>= 1.0.0),pyparsing modüllerinin ve kütüphanelerinin sistemimizde yüklü olması gerekir. \n",
        "\n",
        "Anaconda üzerinde halihazırda yüklü olmayan descartes kütüphanesini yükleyelim: \n"
      ]
    },
    {
      "cell_type": "code",
      "execution_count": null,
      "metadata": {
        "colab": {
          "base_uri": "https://localhost:8080/",
          "height": 326
        },
        "id": "8CYcGMai_5mF",
        "outputId": "3ae126db-6d9f-479f-e614-781aa577f5a9"
      },
      "outputs": [
        {
          "name": "stdout",
          "output_type": "stream",
          "text": [
            "Collecting descartes\n",
            "  Downloading descartes-1.1.0-py3-none-any.whl (5.8 kB)\n",
            "Requirement already satisfied: matplotlib in c:\\users\\acer\\anaconda3\\lib\\site-packages (from descartes) (3.1.3)\n",
            "Requirement already satisfied: cycler>=0.10 in c:\\users\\acer\\anaconda3\\lib\\site-packages (from matplotlib->descartes) (0.10.0)\n",
            "Requirement already satisfied: pyparsing!=2.0.4,!=2.1.2,!=2.1.6,>=2.0.1 in c:\\users\\acer\\anaconda3\\lib\\site-packages (from matplotlib->descartes) (2.4.6)\n",
            "Requirement already satisfied: python-dateutil>=2.1 in c:\\users\\acer\\anaconda3\\lib\\site-packages (from matplotlib->descartes) (2.8.1)\n",
            "Requirement already satisfied: numpy>=1.11 in c:\\users\\acer\\anaconda3\\lib\\site-packages (from matplotlib->descartes) (1.18.1)\n",
            "Requirement already satisfied: kiwisolver>=1.0.1 in c:\\users\\acer\\anaconda3\\lib\\site-packages (from matplotlib->descartes) (1.1.0)\n",
            "Requirement already satisfied: six in c:\\users\\acer\\anaconda3\\lib\\site-packages (from cycler>=0.10->matplotlib->descartes) (1.14.0)\n",
            "Requirement already satisfied: setuptools in c:\\users\\acer\\anaconda3\\lib\\site-packages (from kiwisolver>=1.0.1->matplotlib->descartes) (45.2.0.post20200210)\n",
            "Installing collected packages: descartes\n",
            "Successfully installed descartes-1.1.0\n"
          ]
        }
      ],
      "source": [
        "!pip install descartes"
      ]
    },
    {
      "cell_type": "markdown",
      "metadata": {
        "id": "8h-bjRL5C9n0"
      },
      "source": [
        "Sistemde yüklü olan bir paketi / kütüphaneyi çalışma ekranımızdaki kodun içine dahil etmek için **import** komutu kullanılır. \n",
        "\n",
        "Bir paketin /kütüphanenin sadece tek bir fonksiyonunu çağırmak istersek \n",
        "**from [paket/kütüphane ismi] import [fonksiyon ismi]** \n",
        "komutu kullanılır.\n",
        "\n",
        "Örneğin çemberin alanını ve çevresini hesaplamak için Anaconda içinde hazırda yüklü olan **math** kütüphanesinden **pi** sayısını çağırılım. "
      ]
    },
    {
      "cell_type": "code",
      "execution_count": null,
      "metadata": {
        "colab": {
          "base_uri": "https://localhost:8080/"
        },
        "id": "iArRYLs2tdB8",
        "outputId": "5a4ef15d-513a-4893-833a-4c1c9386d6d5"
      },
      "outputs": [
        {
          "output_type": "stream",
          "name": "stdout",
          "text": [
            "Çevre: 2.701769682087222\n",
            "Alan: 0.5808804816487527\n"
          ]
        }
      ],
      "source": [
        "import math\n",
        "from math import pi\n",
        "\n",
        "r = 0.43 # yarıçap\n",
        "C = 2*math.pi*r\n",
        "A = math.pi*r*r\n",
        "print(\"Çevre: \" + str(C))\n",
        "print(\"Alan: \" + str(A))"
      ]
    },
    {
      "cell_type": "markdown",
      "metadata": {
        "id": "pG-0dbOStdCB"
      },
      "source": [
        "Bir başka örnek;\n",
        "\n",
        "Ayın, Dünya etrafındaki yörüngesinin mükemmel bir çember olduğunu varsayalım. _r_ (km) cinsinden bu yörüngenin yarıçapı olsun. Ayın, 12 derece hareket etmesiyle aldığı yolun uzunluğunu hesaplayalım. \n",
        "\n",
        "Çember yayının formülü  ***r * phi***\n",
        "\n",
        "*phi*, burada radyan cinsinden açıdır. Dolayısıyla verilen açıyı, derece cinsinden radyan cinsine çevirmemiz gerekir. "
      ]
    },
    {
      "cell_type": "code",
      "execution_count": null,
      "metadata": {
        "colab": {
          "base_uri": "https://localhost:8080/"
        },
        "id": "fLZ5AWq9tdCC",
        "outputId": "f97e5219-4e80-4676-b3e7-39b9bd60e1ae"
      },
      "outputs": [
        {
          "output_type": "stream",
          "name": "stdout",
          "text": [
            "40317.10572106901\n"
          ]
        }
      ],
      "source": [
        "# Yarıçap uzunluğunun tanımı\n",
        "r = 192500\n",
        "\n",
        "# math paketinden radians fonksiyonunu çekelim. \n",
        "from math import radians\n",
        "\n",
        "# Formülü uygulayalım.\n",
        "uzaklık = r * radians(12)\n",
        "\n",
        "# Sonucu ekrana verelim.\n",
        "print(uzaklık)"
      ]
    },
    {
      "cell_type": "markdown",
      "metadata": {
        "id": "QF_7rWhatdCG"
      },
      "source": [
        "Fonksiyonlar şayet bir paketin alt paketi içinde bulunuyorsa, bu alt paketin ismi de eklenmelidir. Örneğin, inv() fonksiyonu scipy paketinin linalg altpaketindedir. Dolayısıyla:\n",
        "\n",
        "`from scipy.linalg import inv`\n",
        "\n",
        "şeklinde komut yazılır. \n",
        "\n",
        "Atayacağımız fonksiyona kendimiz bir isim de verebiliriz. Örneğin inv fonksiyonuna my_inv ismini vermek isteyelim. Dolayısıyla komutun sonuna as komutunu da eklememiz gerekir: \n",
        "\n",
        "`from scipy.linalg import inv as my_inv`\n"
      ]
    },
    {
      "cell_type": "markdown",
      "metadata": {
        "id": "Xj7w4Z44tdCH"
      },
      "source": [
        "# 2. NumPy Kütüphanesi"
      ]
    },
    {
      "cell_type": "markdown",
      "metadata": {
        "id": "FZGYldaLtdCI"
      },
      "source": [
        "NumPy, Python'daki bilimsel programlama ve özellikle veri analizi için kullanılan en temel kütüphanedir. Çok fazla sayıda matematiksel ve bilimsel Python paketinin temelini oluşturur. Standart Python içeriğinin yetersiz kaldığı bütün veri analizi hesaplamalarında yardımcı olur. NumPy kütüphanesini kullanmasını bilen bir kullanıcı, diğer bilimsel Python paketlerini de kullanabilecektir. \n",
        "\n",
        "NumPy, çoğunlukla çok boyutlu diziler ve bu dizilere ilişkin hazır fonksiyonlar barındırır. \n",
        "\n",
        "Numpy eğer çalışma sisteminizde yüklü değilse, aşağıdaki komut ile yüklenir. \n",
        "\n",
        "`!pip install numpy`\n",
        "\n",
        "NumPy sisteme yüklendikten sonra, kütüphaneyi çalışma sayfamıza atamak için aşağıdaki komut çalıştırılır. Kütüphanenin ismi veri bilimi camiasında **np** şeklinde kısaltılır. \n",
        "\n",
        "`import numpy as np`"
      ]
    },
    {
      "cell_type": "markdown",
      "metadata": {
        "id": "JNX9LpH3tdCJ"
      },
      "source": [
        "# 3. *ndarray*: NumPy Kütüphanesinin Kalbi"
      ]
    },
    {
      "cell_type": "markdown",
      "metadata": {
        "id": "1vREy4HYtdCK"
      },
      "source": [
        "NumPy kütüphanesi, ***ndarray*** nesnesinin üzerinde temellendirilmiştir (ndarray burada N-boyutlu dizi, İngilizcesi N-dimensional array teriminin kısaltmasına karşılık gelir). Bu nesne, çok boyutlu, heterojen, elemanları belirtilmiş dizilerdir.\n",
        "\n",
        "Dizideki boyut ve eleman sayısı, dizinin boyutunu (***shape***) verir. Dizinin boyutu tanımlandıktan sonra, değişmeden kalır. \n",
        "\n",
        "İlk ndarray'imizi, `array()` fonksiyonu ile oluşturalım. "
      ]
    },
    {
      "cell_type": "code",
      "execution_count": null,
      "metadata": {
        "id": "QH0UWUy3tdCL"
      },
      "outputs": [],
      "source": [
        "import numpy as np"
      ]
    },
    {
      "cell_type": "code",
      "execution_count": null,
      "metadata": {
        "id": "cuILcmNltdCQ"
      },
      "outputs": [],
      "source": [
        "a = np.array([1,2,3])"
      ]
    },
    {
      "cell_type": "code",
      "execution_count": null,
      "metadata": {
        "colab": {
          "base_uri": "https://localhost:8080/"
        },
        "id": "868xUqeYtdCV",
        "outputId": "0c7eadb9-1d02-4ed0-bafc-55f00bdf3cde"
      },
      "outputs": [
        {
          "output_type": "execute_result",
          "data": {
            "text/plain": [
              "array([1, 2, 3])"
            ]
          },
          "metadata": {},
          "execution_count": 7
        }
      ],
      "source": [
        "a"
      ]
    },
    {
      "cell_type": "code",
      "execution_count": null,
      "metadata": {
        "colab": {
          "base_uri": "https://localhost:8080/"
        },
        "id": "93BxmXmOtdCa",
        "outputId": "6f185f93-7d64-416c-ba54-795d1717184f"
      },
      "outputs": [
        {
          "output_type": "execute_result",
          "data": {
            "text/plain": [
              "numpy.ndarray"
            ]
          },
          "metadata": {},
          "execution_count": 8
        }
      ],
      "source": [
        "type(a)"
      ]
    },
    {
      "cell_type": "code",
      "execution_count": null,
      "metadata": {
        "colab": {
          "base_uri": "https://localhost:8080/"
        },
        "id": "_wEb4CPttdCg",
        "outputId": "89825a67-6345-4515-aaa4-9264d93be0d2"
      },
      "outputs": [
        {
          "output_type": "execute_result",
          "data": {
            "text/plain": [
              "1"
            ]
          },
          "metadata": {},
          "execution_count": 9
        }
      ],
      "source": [
        "a.ndim # bu dizi kaç boyutludur?"
      ]
    },
    {
      "cell_type": "code",
      "execution_count": null,
      "metadata": {
        "colab": {
          "base_uri": "https://localhost:8080/"
        },
        "id": "zuidDHlmtdCl",
        "outputId": "f8c18f5f-4551-4d4d-9681-4b346b95d0f1"
      },
      "outputs": [
        {
          "output_type": "execute_result",
          "data": {
            "text/plain": [
              "3"
            ]
          },
          "metadata": {},
          "execution_count": 10
        }
      ],
      "source": [
        "a.size # bu dizide kaç eleman vardır?"
      ]
    },
    {
      "cell_type": "code",
      "execution_count": null,
      "metadata": {
        "colab": {
          "base_uri": "https://localhost:8080/"
        },
        "id": "-mzborFMtdCr",
        "outputId": "b7074e39-5ea6-4cc1-dd32-76d2934befdb"
      },
      "outputs": [
        {
          "output_type": "execute_result",
          "data": {
            "text/plain": [
              "(3,)"
            ]
          },
          "metadata": {},
          "execution_count": 11
        }
      ],
      "source": [
        "a.shape # bu dizi kaç sütün ve satırdan oluşmaktadır?"
      ]
    },
    {
      "cell_type": "code",
      "execution_count": null,
      "metadata": {
        "colab": {
          "base_uri": "https://localhost:8080/"
        },
        "id": "hV_QmbG-tdCx",
        "outputId": "fe580c71-5ae5-4d26-bcaf-a95991f813d3"
      },
      "outputs": [
        {
          "output_type": "execute_result",
          "data": {
            "text/plain": [
              "dtype('int64')"
            ]
          },
          "metadata": {},
          "execution_count": 12
        }
      ],
      "source": [
        "a.dtype # dizide bulunan elemanların veri tipi nedir?"
      ]
    },
    {
      "cell_type": "code",
      "execution_count": null,
      "metadata": {
        "colab": {
          "base_uri": "https://localhost:8080/"
        },
        "id": "PEdjGu6GtdC0",
        "outputId": "999308d2-9ee4-4294-cddf-8193020f6bc3"
      },
      "outputs": [
        {
          "output_type": "execute_result",
          "data": {
            "text/plain": [
              "array([[1.3, 2.4],\n",
              "       [0.3, 4.1]])"
            ]
          },
          "metadata": {},
          "execution_count": 13
        }
      ],
      "source": [
        "b = np.array([[1.3, 2.4],[0.3, 4.1]])\n",
        "b"
      ]
    },
    {
      "cell_type": "code",
      "execution_count": null,
      "metadata": {
        "colab": {
          "base_uri": "https://localhost:8080/"
        },
        "id": "jN6bF9DytdC4",
        "outputId": "dac530d0-ee16-42a1-a424-b6a1c65a0216"
      },
      "outputs": [
        {
          "output_type": "execute_result",
          "data": {
            "text/plain": [
              "2"
            ]
          },
          "metadata": {},
          "execution_count": 14
        }
      ],
      "source": [
        "b.ndim"
      ]
    },
    {
      "cell_type": "code",
      "execution_count": null,
      "metadata": {
        "colab": {
          "base_uri": "https://localhost:8080/"
        },
        "id": "iSL_gtFNtdC_",
        "outputId": "f7c93f65-b6fc-4834-a192-724e19dc6b6b"
      },
      "outputs": [
        {
          "output_type": "execute_result",
          "data": {
            "text/plain": [
              "4"
            ]
          },
          "metadata": {},
          "execution_count": 15
        }
      ],
      "source": [
        "b.size"
      ]
    },
    {
      "cell_type": "code",
      "execution_count": null,
      "metadata": {
        "colab": {
          "base_uri": "https://localhost:8080/"
        },
        "id": "h-QhBL7ltdDD",
        "outputId": "289571e9-f2c5-4dc3-f43a-d7eae3ee2c82"
      },
      "outputs": [
        {
          "output_type": "execute_result",
          "data": {
            "text/plain": [
              "(2, 2)"
            ]
          },
          "metadata": {},
          "execution_count": 16
        }
      ],
      "source": [
        "b.shape"
      ]
    },
    {
      "cell_type": "markdown",
      "metadata": {
        "id": "6t5FnONeGABD"
      },
      "source": [
        "Özetle ndarray dizileri üzerinde temel sorgulamaları yapabileceğimiz yöntemler aşağıdaki tabloda özetlenmiştir: \n",
        "\n",
        "| Yöntem     | İşlevi           | \n",
        "|--------------|----------------|\n",
        "| `.ndim `   | Dizinin boyutunu verir.|\n",
        "| `.size`   | Dizide kaç eleman olduğunu gösterir. | \n",
        "| `.shape`    | Dizinin kaç satır ve kaç sütundan oluştuğunu gösterir.| \n"
      ]
    },
    {
      "cell_type": "markdown",
      "metadata": {
        "id": "LXhiTkzHtdDI"
      },
      "source": [
        "### Alıştırma 1\n"
      ]
    },
    {
      "cell_type": "markdown",
      "metadata": {
        "id": "1Jq8S2fbtdDJ"
      },
      "source": [
        "7 kişilik bir NBA basketbol takımındaki oyuncuların inç cinsinden boylarının dizisi verilmiş olsun. Bu uzunlukları metre cinsine çevirelim. "
      ]
    },
    {
      "cell_type": "code",
      "execution_count": null,
      "metadata": {
        "colab": {
          "base_uri": "https://localhost:8080/",
          "height": 236
        },
        "id": "T17nBIs9G_ic",
        "outputId": "96356553-f4b6-4bce-86ea-153a3ab496ab"
      },
      "outputs": [
        {
          "output_type": "stream",
          "name": "stdout",
          "text": [
            "<class 'list'>\n"
          ]
        },
        {
          "output_type": "error",
          "ename": "TypeError",
          "evalue": "ignored",
          "traceback": [
            "\u001b[0;31m---------------------------------------------------------------------------\u001b[0m",
            "\u001b[0;31mTypeError\u001b[0m                                 Traceback (most recent call last)",
            "\u001b[0;32m<ipython-input-17-4aee27da1fd1>\u001b[0m in \u001b[0;36m<module>\u001b[0;34m()\u001b[0m\n\u001b[1;32m      2\u001b[0m \u001b[0mprint\u001b[0m\u001b[0;34m(\u001b[0m\u001b[0mtype\u001b[0m\u001b[0;34m(\u001b[0m\u001b[0mboy\u001b[0m\u001b[0;34m)\u001b[0m\u001b[0;34m)\u001b[0m\u001b[0;34m\u001b[0m\u001b[0;34m\u001b[0m\u001b[0m\n\u001b[1;32m      3\u001b[0m \u001b[0;31m# Python'da standart bir liste oluşturduk. Şimdi bunu NumPy kullanmadan metre cinsine çevirmeye çalışalım.\u001b[0m\u001b[0;34m\u001b[0m\u001b[0;34m\u001b[0m\u001b[0;34m\u001b[0m\u001b[0m\n\u001b[0;32m----> 4\u001b[0;31m \u001b[0mboy_m\u001b[0m \u001b[0;34m=\u001b[0m \u001b[0mboy\u001b[0m \u001b[0;34m*\u001b[0m \u001b[0;36m0.0254\u001b[0m\u001b[0;34m\u001b[0m\u001b[0;34m\u001b[0m\u001b[0m\n\u001b[0m",
            "\u001b[0;31mTypeError\u001b[0m: can't multiply sequence by non-int of type 'float'"
          ]
        }
      ],
      "source": [
        "boy = [74.180, 74.215, 72.210, 72.210, 73.188, 69.176, 69.209]\n",
        "print(type(boy))\n",
        "# Python'da standart bir liste oluşturduk. Şimdi bunu NumPy kullanmadan metre cinsine çevirmeye çalışalım.\n",
        "boy_m = boy * 0.0254"
      ]
    },
    {
      "cell_type": "markdown",
      "metadata": {
        "id": "_MuU2tBqHUyc"
      },
      "source": [
        "Listemizi girdikten sonra veri tipini kontrol ettik ve sorgu sonucunda elimizdekinin bir liste olduğunu gördük. Akabinde listeyi tek bir skaler float ile çarptık ve bir hata ile karşılaştık. Python'da standart bir listedeki / dizideki tüm elemanları aynı anda tek bir sayı ile çarpmak olanaklı değildir. Bunu yapabilmemiz için, her elemanı tek tek çarpmamız gerekecekti. Bu da daha uzun bir kod yazmak için zaman kaybına sebep olacaktı. Dolayısıyla, listemizi bir NumPy dizisine çevirerek bu zaman kaybını önleyebiliriz. Çünkü NumPy kütüphanesi, bu dizi üzerinde aritmetik işlem yapmamıza en kısa yoldan izin verecek. "
      ]
    },
    {
      "cell_type": "code",
      "execution_count": null,
      "metadata": {
        "colab": {
          "base_uri": "https://localhost:8080/"
        },
        "id": "dJZqa8-YtdDM",
        "outputId": "80ed4539-799f-4d1e-a3ad-bcb4f6bfa817"
      },
      "outputs": [
        {
          "output_type": "stream",
          "name": "stdout",
          "text": [
            "[74.18  74.215 72.21  72.21  73.188 69.176 69.209]\n",
            "<class 'numpy.ndarray'>\n",
            "[1.884172  1.885061  1.834134  1.834134  1.8589752 1.7570704 1.7579086]\n"
          ]
        }
      ],
      "source": [
        "import numpy as np\n",
        "\n",
        "# ndarray oluşturalım.\n",
        "np_boy = np.array(boy)\n",
        "\n",
        "# Ekrana diziyi ve veri tipini yazdıralım\n",
        "print(np_boy)\n",
        "print(type(np_boy))\n",
        "\n",
        "# inç'ten metreye çevirelim\n",
        "\n",
        "np_boy_m = np_boy*0.0254\n",
        "\n",
        "# Ekrana yazdıralım.\n",
        "print(np_boy_m)"
      ]
    },
    {
      "cell_type": "markdown",
      "metadata": {
        "id": "a_Rut3AvtdDW"
      },
      "source": [
        "### Alıştırma 2"
      ]
    },
    {
      "cell_type": "markdown",
      "metadata": {
        "id": "5nF-EuAJtdDX"
      },
      "source": [
        "Bu oyuncuların ağırlıklarının listesini ekleyerek, Vücüt Kitle İndekslerini hesaplayalım. \n",
        "\n",
        "__VKİ = ağırlık / (boy)^2__"
      ]
    },
    {
      "cell_type": "code",
      "execution_count": null,
      "metadata": {
        "colab": {
          "base_uri": "https://localhost:8080/"
        },
        "id": "CmdmCn75tdDY",
        "outputId": "12d6d43c-5520-49b2-bdcd-e013b024d088"
      },
      "outputs": [
        {
          "output_type": "stream",
          "name": "stdout",
          "text": [
            "[79.1 78.2 79.2 79.  76.1 72.1 73.4]\n"
          ]
        }
      ],
      "source": [
        "agirlik = [79.1, 78.2, 79.2, 79.0, 76.1, 72.1, 73.4]  # Oyuncuların ağırlıklarını içeren listeyi girelim. \n",
        "\n",
        "agirlik_np = np.array(agirlik) # Bu listeyi bir NumPy dizisine çevirelim. \n",
        "\n",
        "print(agirlik_np)"
      ]
    },
    {
      "cell_type": "code",
      "execution_count": null,
      "metadata": {
        "colab": {
          "base_uri": "https://localhost:8080/"
        },
        "id": "CmczplHEIu5w",
        "outputId": "cb076916-4d2b-440e-9b69-8a8ccbc8da3a"
      },
      "outputs": [
        {
          "output_type": "stream",
          "name": "stdout",
          "text": [
            "[22.28103661 22.00675134 23.54306807 23.48361588 22.02102169 23.35376682\n",
            " 23.75218014]\n"
          ]
        }
      ],
      "source": [
        "vki = np.array(agirlik_np)/np.array(np_boy_m)**2 # Boy ve ağırlığı içeren NumPy dizileri üzerinden formülümüzü uygulayalım.\n",
        "\n",
        "print(vki) # Vücut kitle indekslerini barındıran NumPy dizisini yazdıralım."
      ]
    },
    {
      "cell_type": "markdown",
      "metadata": {
        "id": "7ihIPJuztdDc"
      },
      "source": [
        "## 3.1 *ndarray* Altkümeleri"
      ]
    },
    {
      "cell_type": "markdown",
      "metadata": {
        "id": "ddV9CnkWtdDd"
      },
      "source": [
        "NumPy dizileri de, Python listeleri gibi köşeli parantezler kullanılarak altkümelerine ayrılabilir. "
      ]
    },
    {
      "cell_type": "code",
      "execution_count": null,
      "metadata": {
        "colab": {
          "base_uri": "https://localhost:8080/"
        },
        "id": "geQJD4zRtdDd",
        "outputId": "5fffb4b7-d805-4685-b867-bfac926b01d9"
      },
      "outputs": [
        {
          "output_type": "execute_result",
          "data": {
            "text/plain": [
              "9"
            ]
          },
          "metadata": {},
          "execution_count": 22
        }
      ],
      "source": [
        "x = [4 , 9 , 6, 3, 1]\n",
        "x[1]"
      ]
    },
    {
      "cell_type": "code",
      "execution_count": null,
      "metadata": {
        "colab": {
          "base_uri": "https://localhost:8080/"
        },
        "id": "kCKfYAUWtdDj",
        "outputId": "74bf7960-4445-4a75-8e6d-b2550fb76e9e"
      },
      "outputs": [
        {
          "output_type": "execute_result",
          "data": {
            "text/plain": [
              "9"
            ]
          },
          "metadata": {},
          "execution_count": 23
        }
      ],
      "source": [
        "import numpy as np\n",
        "y = np.array(x)\n",
        "y[1]"
      ]
    },
    {
      "cell_type": "markdown",
      "metadata": {
        "id": "U6qjcWPjtdDn"
      },
      "source": [
        "Altkümelenecek elemanlar için bir koşul da belirtilebilir. Örneğin:"
      ]
    },
    {
      "cell_type": "code",
      "execution_count": null,
      "metadata": {
        "colab": {
          "base_uri": "https://localhost:8080/"
        },
        "id": "Ss0Eyhx6tdDo",
        "outputId": "0df14ee2-b7ab-4d45-c88c-cf837adcc126"
      },
      "outputs": [
        {
          "output_type": "execute_result",
          "data": {
            "text/plain": [
              "array([9, 6])"
            ]
          },
          "metadata": {},
          "execution_count": 24
        }
      ],
      "source": [
        "yuksek = y > 5\n",
        "y[yuksek]"
      ]
    },
    {
      "cell_type": "markdown",
      "metadata": {
        "id": "_JdwFGzUtdDs"
      },
      "source": [
        "### Alıştırma 3"
      ]
    },
    {
      "cell_type": "markdown",
      "metadata": {
        "id": "-Y1z5_JGtdDs"
      },
      "source": [
        "Bir önceki, vücut kitle indeksi hesaplamasına göre, değerlerin 23'ten küçük olup olmadığını kontrol edelim. "
      ]
    },
    {
      "cell_type": "code",
      "execution_count": null,
      "metadata": {
        "colab": {
          "base_uri": "https://localhost:8080/"
        },
        "id": "R-J-lpIntdDt",
        "outputId": "a4c1fbe8-7f57-4432-cfef-13d8834bbcf3"
      },
      "outputs": [
        {
          "output_type": "stream",
          "name": "stdout",
          "text": [
            "[ True  True False False  True False False]\n"
          ]
        }
      ],
      "source": [
        "# hafif dizisini oluşturalım\n",
        "hafif = vki < 23\n",
        "# Ekrana yazdıralım.\n",
        "print(hafif)"
      ]
    },
    {
      "cell_type": "markdown",
      "metadata": {
        "id": "xnxwJIIbtdDz"
      },
      "source": [
        "Şimdi de, 23'ten küçük olan vücüt kitle indekslerini ekrana verelim."
      ]
    },
    {
      "cell_type": "code",
      "execution_count": null,
      "metadata": {
        "colab": {
          "base_uri": "https://localhost:8080/"
        },
        "id": "wWNUcOPYtdDz",
        "outputId": "b0eccc8f-c773-4749-eee3-a2531e3f5a0b"
      },
      "outputs": [
        {
          "output_type": "stream",
          "name": "stdout",
          "text": [
            "[22.28103661 22.00675134 22.02102169]\n"
          ]
        }
      ],
      "source": [
        "print(vki[hafif])"
      ]
    },
    {
      "cell_type": "markdown",
      "metadata": {
        "id": "uFVyI0vVJzpT"
      },
      "source": [
        "Dikkat edileceği üzere; hafif dizisi vki dizisi için bir koşul oluşturmaktadır. vki dizisi içindeki 23'ten küçük değerleri aramaktadır. 23'ten küçük değerleri ekrana verebilmemiz ya da başka isimle kaydedebilmemiz için bu koşul dizisini köşeli parantez içine alarak vki dizisini filtreledik. "
      ]
    },
    {
      "cell_type": "markdown",
      "metadata": {
        "id": "4MaSUuiLtdD5"
      },
      "source": [
        "### Alıştırma 4"
      ]
    },
    {
      "cell_type": "code",
      "execution_count": null,
      "metadata": {
        "colab": {
          "base_uri": "https://localhost:8080/"
        },
        "id": "6GS8M-yItdD6",
        "outputId": "4f689bd6-ff95-46c3-c834-b6697d4943ac"
      },
      "outputs": [
        {
          "output_type": "stream",
          "name": "stdout",
          "text": [
            "76.1\n",
            "[1.83 1.85]\n"
          ]
        }
      ],
      "source": [
        "import numpy as np\n",
        "\n",
        "agirlik = [79.1, 78.2, 79.2, 79.0, 76.1, 72.1, 73.4]\n",
        "boy = [1.88, 1.88, 1.83, 1.83, 1.85, 1.75, 1.75]\n",
        "\n",
        "# Ağırlık ve boy listelerini NumPy dizisine çevirelim.\n",
        "agirlik_np = np.array(agirlik)\n",
        "boy_np = np.array(boy)\n",
        "\n",
        "# Ağırlık dizisindeki 5. elemanı ekrana verelim. \n",
        "print(agirlik_np[4])\n",
        "\n",
        "# Boy dizisinin 4. ve 5. elemanlarından oluşan alt diziyi dilimleyelim.\n",
        "print(boy_np[3:5])"
      ]
    },
    {
      "cell_type": "markdown",
      "metadata": {
        "id": "U596I3sgtdD9"
      },
      "source": [
        "### Alıştırma 5"
      ]
    },
    {
      "cell_type": "markdown",
      "metadata": {
        "id": "WLEXHzIWtdD-"
      },
      "source": [
        "Sporcuların hem boyunu, hem de ağırlığını içeren iki boyutlu bir liste oluşturalım:"
      ]
    },
    {
      "cell_type": "code",
      "execution_count": null,
      "metadata": {
        "colab": {
          "base_uri": "https://localhost:8080/"
        },
        "id": "AzT8duORtdD_",
        "outputId": "44d187e4-b669-4e03-8d19-c739ecf14140"
      },
      "outputs": [
        {
          "output_type": "stream",
          "name": "stdout",
          "text": [
            "<class 'numpy.ndarray'>\n",
            "(7, 2)\n"
          ]
        }
      ],
      "source": [
        "oyuncu = [[79.1,1.88],\n",
        "           [78.2,1.88],\n",
        "           [79.2,1.83],\n",
        "           [79.0,1.83],\n",
        "           [76.1,1.85],\n",
        "           [72.1,1.75],\n",
        "           [73.4,1.75]]\n",
        "\n",
        "import numpy as np\n",
        "\n",
        "# Bu listeyi NumPy dizisine (ndarray) çevirelim.\n",
        "np_oyuncu = np.array(oyuncu)\n",
        "\n",
        "# Bu ndarray'in türüne ve boyutlarına bakalım.\n",
        "print(type(np_oyuncu))\n",
        "\n",
        "print(np_oyuncu.shape)"
      ]
    },
    {
      "cell_type": "code",
      "execution_count": null,
      "metadata": {
        "colab": {
          "base_uri": "https://localhost:8080/"
        },
        "id": "r5QiQ-TotdED",
        "outputId": "25230f96-b888-40cf-dd6e-f8ff085dd675"
      },
      "outputs": [
        {
          "output_type": "stream",
          "name": "stdout",
          "text": [
            "[76.1   1.85]\n"
          ]
        }
      ],
      "source": [
        "# Bu ndarray'in 5.ci satırına bakalım.\n",
        "print(np_oyuncu[4,:])"
      ]
    },
    {
      "cell_type": "code",
      "execution_count": null,
      "metadata": {
        "colab": {
          "base_uri": "https://localhost:8080/"
        },
        "id": "PQ03qLtjtdEH",
        "outputId": "7db59a61-9695-4562-c27c-84f00c55ccd9"
      },
      "outputs": [
        {
          "output_type": "stream",
          "name": "stdout",
          "text": [
            "[1.88 1.88 1.83 1.83 1.85 1.75 1.75]\n"
          ]
        }
      ],
      "source": [
        "# oyuncu ndarray'inde boy sütununu ekrana verelim.\n",
        "print(np_oyuncu[:,1])"
      ]
    },
    {
      "cell_type": "code",
      "execution_count": null,
      "metadata": {
        "colab": {
          "base_uri": "https://localhost:8080/"
        },
        "id": "PkVLqu1GtdEL",
        "outputId": "133267b5-36c9-462b-d5f4-adf16bc9c024"
      },
      "outputs": [
        {
          "output_type": "stream",
          "name": "stdout",
          "text": [
            "72.1\n"
          ]
        }
      ],
      "source": [
        "# 6.cı oyuncunun ağırlığına bakalım.\n",
        "print(np_oyuncu[5,0])"
      ]
    },
    {
      "cell_type": "markdown",
      "metadata": {
        "id": "fvmDBn3StdEP"
      },
      "source": [
        "## 3.2 Temel Diziler"
      ]
    },
    {
      "cell_type": "markdown",
      "metadata": {
        "id": "o-tEMJUmtdEQ"
      },
      "source": [
        "`zeros()` fonksiyonu, belirtilen boyutlarda elemanları tamamen sıfırlardan oluşan bir dizi üretir. "
      ]
    },
    {
      "cell_type": "code",
      "execution_count": null,
      "metadata": {
        "colab": {
          "base_uri": "https://localhost:8080/"
        },
        "id": "5DvpZQkPtdEQ",
        "outputId": "62504864-65d5-4a6c-deb2-3f5a3b10c17d"
      },
      "outputs": [
        {
          "output_type": "execute_result",
          "data": {
            "text/plain": [
              "array([[0., 0., 0.],\n",
              "       [0., 0., 0.],\n",
              "       [0., 0., 0.]])"
            ]
          },
          "metadata": {},
          "execution_count": 33
        }
      ],
      "source": [
        "np.zeros((3, 3))"
      ]
    },
    {
      "cell_type": "markdown",
      "metadata": {
        "id": "59rjiO4otdEV"
      },
      "source": [
        "`ones()` fonksiyonu da benzer şekilde, tamamen 1 elemanlarından oluşan bir dizi üretir."
      ]
    },
    {
      "cell_type": "code",
      "execution_count": null,
      "metadata": {
        "colab": {
          "base_uri": "https://localhost:8080/"
        },
        "id": "SdPYzo7vtdEV",
        "outputId": "fccb6817-50b9-4e25-a0f7-18d19c417711"
      },
      "outputs": [
        {
          "output_type": "execute_result",
          "data": {
            "text/plain": [
              "array([[1., 1., 1.],\n",
              "       [1., 1., 1.],\n",
              "       [1., 1., 1.]])"
            ]
          },
          "metadata": {},
          "execution_count": 34
        }
      ],
      "source": [
        "np.ones((3,3))"
      ]
    },
    {
      "cell_type": "markdown",
      "metadata": {
        "id": "df_d2aTntdEZ"
      },
      "source": [
        "`arange()` fonksiyonu, belirtilen aralık ve kurallar dahilinde sıralı NumPy dizileri üretir. Örneğin; 0 ile 10 arasında (10 hariç!) birer birer artan elemanlardan oluşan bir dizi oluşturmak istiyorsanız:"
      ]
    },
    {
      "cell_type": "code",
      "execution_count": null,
      "metadata": {
        "colab": {
          "base_uri": "https://localhost:8080/"
        },
        "id": "AteItSvwtdEa",
        "outputId": "f8b0a05c-4e50-41b8-d798-7def114ac835"
      },
      "outputs": [
        {
          "output_type": "execute_result",
          "data": {
            "text/plain": [
              "array([0, 1, 2, 3, 4, 5, 6, 7, 8, 9])"
            ]
          },
          "metadata": {},
          "execution_count": 35
        }
      ],
      "source": [
        "np.arange(0, 10)"
      ]
    },
    {
      "cell_type": "markdown",
      "metadata": {
        "id": "K0rvxo2KtdEf"
      },
      "source": [
        "4 ile 10 arasında üretelim:"
      ]
    },
    {
      "cell_type": "code",
      "execution_count": null,
      "metadata": {
        "colab": {
          "base_uri": "https://localhost:8080/"
        },
        "id": "WA_PWyUPtdEg",
        "outputId": "77933c39-7baa-42de-d9d7-903981f1f4e8"
      },
      "outputs": [
        {
          "output_type": "execute_result",
          "data": {
            "text/plain": [
              "array([4, 5, 6, 7, 8, 9])"
            ]
          },
          "metadata": {},
          "execution_count": 36
        }
      ],
      "source": [
        "np.arange(4, 10)"
      ]
    },
    {
      "cell_type": "markdown",
      "metadata": {
        "id": "1klecYdLtdEl"
      },
      "source": [
        "0-12 arasında üçer üçer artan elemanlardan oluşan bir dizi:"
      ]
    },
    {
      "cell_type": "code",
      "execution_count": null,
      "metadata": {
        "colab": {
          "base_uri": "https://localhost:8080/"
        },
        "id": "BZLEXo0BtdEm",
        "outputId": "6f3f69a7-f433-4682-ba33-5599a9f994b9"
      },
      "outputs": [
        {
          "output_type": "execute_result",
          "data": {
            "text/plain": [
              "array([0, 3, 6, 9])"
            ]
          },
          "metadata": {},
          "execution_count": 37
        }
      ],
      "source": [
        "np.arange(0, 12, 3)"
      ]
    },
    {
      "cell_type": "markdown",
      "metadata": {
        "id": "bsb0y9BFtdEq"
      },
      "source": [
        "Bu artış, ondalık sayılarla da olabilir: "
      ]
    },
    {
      "cell_type": "code",
      "execution_count": null,
      "metadata": {
        "colab": {
          "base_uri": "https://localhost:8080/"
        },
        "id": "wGLmZ9QltdEr",
        "outputId": "e2674d56-05b2-407b-b53f-f3af502d64ba"
      },
      "outputs": [
        {
          "output_type": "execute_result",
          "data": {
            "text/plain": [
              "array([0. , 0.6, 1.2, 1.8, 2.4, 3. , 3.6, 4.2, 4.8, 5.4])"
            ]
          },
          "metadata": {},
          "execution_count": 38
        }
      ],
      "source": [
        "np.arange(0, 6, 0.6)"
      ]
    },
    {
      "cell_type": "markdown",
      "metadata": {
        "id": "bOGQjuOstdEv"
      },
      "source": [
        "0-12 arasında 3x4 boyutlarında bir dizi üretelim. Burada `.reshape()` yöntemi ile istediğimiz boyutları belirteceğiz."
      ]
    },
    {
      "cell_type": "code",
      "execution_count": null,
      "metadata": {
        "colab": {
          "base_uri": "https://localhost:8080/"
        },
        "id": "tMjCWL_TtdEv",
        "outputId": "6037d2e6-3552-44f5-e5e8-ef84c1011590"
      },
      "outputs": [
        {
          "output_type": "execute_result",
          "data": {
            "text/plain": [
              "array([[ 0,  1,  2,  3],\n",
              "       [ 4,  5,  6,  7],\n",
              "       [ 8,  9, 10, 11]])"
            ]
          },
          "metadata": {},
          "execution_count": 39
        }
      ],
      "source": [
        "np.arange(0, 12).reshape(3, 4)"
      ]
    },
    {
      "cell_type": "markdown",
      "metadata": {
        "id": "RCjYG92LtdE0"
      },
      "source": [
        "`linspace()` fonksiyonu, `arange()` fonksiyonuna benzemektedir. Ancak dizinin ne kadar artacağını belirtmek yerine, dizinin ilk ve son elemanları arasında (ilk ve son dahil) kaç eleman bulunacağını belirterek kullanılır. Örneğin; 0 ile 10 arasında 5 adet sayı doğrusu üzerinde eşit aralıklarda bulunan ardışık elemanlar oluşan diziyi yazalım. "
      ]
    },
    {
      "cell_type": "code",
      "execution_count": null,
      "metadata": {
        "colab": {
          "base_uri": "https://localhost:8080/"
        },
        "id": "X4VWQ8cWtdE1",
        "outputId": "6c385377-4e9e-47f0-a75c-0d37d8d12f96"
      },
      "outputs": [
        {
          "output_type": "execute_result",
          "data": {
            "text/plain": [
              "array([ 0. ,  2.5,  5. ,  7.5, 10. ])"
            ]
          },
          "metadata": {},
          "execution_count": 40
        }
      ],
      "source": [
        "np.linspace(0,10,5)"
      ]
    },
    {
      "cell_type": "markdown",
      "metadata": {
        "id": "6KL6T11ZtdE4"
      },
      "source": [
        "`random()` fonksiyonu ise, belirtilen sayıda ve boyutta rastgele eleman atar ve diziyi oluşturur."
      ]
    },
    {
      "cell_type": "code",
      "execution_count": null,
      "metadata": {
        "colab": {
          "base_uri": "https://localhost:8080/"
        },
        "id": "KrGih44etdE5",
        "outputId": "1f2141ed-b4b6-4015-e120-c1589042a35a"
      },
      "outputs": [
        {
          "output_type": "execute_result",
          "data": {
            "text/plain": [
              "array([0.64977568, 0.79945805, 0.29021576])"
            ]
          },
          "metadata": {},
          "execution_count": 41
        }
      ],
      "source": [
        "np.random.random(3)"
      ]
    },
    {
      "cell_type": "code",
      "execution_count": null,
      "metadata": {
        "colab": {
          "base_uri": "https://localhost:8080/"
        },
        "id": "ioBMltXitdE_",
        "outputId": "d3f15efb-c21b-4662-8a29-a469a926ca75"
      },
      "outputs": [
        {
          "output_type": "execute_result",
          "data": {
            "text/plain": [
              "array([[0.2185167 , 0.73201497, 0.00253145],\n",
              "       [0.4093203 , 0.43661423, 0.8898242 ],\n",
              "       [0.18826872, 0.95504735, 0.15342373]])"
            ]
          },
          "metadata": {},
          "execution_count": 42
        }
      ],
      "source": [
        "np.random.random((3,3))"
      ]
    },
    {
      "cell_type": "markdown",
      "metadata": {
        "id": "IFl56C2FtdFK"
      },
      "source": [
        "\n",
        "## 3.3 *ndarray* Üzerinde İki Boyutlu Aritmetik İşlemler"
      ]
    },
    {
      "cell_type": "code",
      "execution_count": null,
      "metadata": {
        "colab": {
          "base_uri": "https://localhost:8080/"
        },
        "id": "orCr8I9KtdFM",
        "outputId": "ca160d9d-c31a-4a3b-8673-48c1131a9cd1"
      },
      "outputs": [
        {
          "output_type": "execute_result",
          "data": {
            "text/plain": [
              "array([0, 1, 2, 3])"
            ]
          },
          "metadata": {},
          "execution_count": 43
        }
      ],
      "source": [
        "import numpy as np\n",
        "\n",
        "a = np.arange(4)\n",
        "\n",
        "a"
      ]
    },
    {
      "cell_type": "code",
      "execution_count": null,
      "metadata": {
        "colab": {
          "base_uri": "https://localhost:8080/"
        },
        "id": "KsZSwMPBtdFQ",
        "outputId": "7a3a6a85-c4d7-41d7-e5d9-b9ed15b95e60"
      },
      "outputs": [
        {
          "output_type": "execute_result",
          "data": {
            "text/plain": [
              "array([4, 5, 6, 7])"
            ]
          },
          "metadata": {},
          "execution_count": 44
        }
      ],
      "source": [
        "a + 4"
      ]
    },
    {
      "cell_type": "code",
      "execution_count": null,
      "metadata": {
        "colab": {
          "base_uri": "https://localhost:8080/"
        },
        "id": "Bdcg2EZxtdFU",
        "outputId": "f7f12877-efc1-4f69-acff-a76d4fd018e1"
      },
      "outputs": [
        {
          "output_type": "execute_result",
          "data": {
            "text/plain": [
              "array([0, 2, 4, 6])"
            ]
          },
          "metadata": {},
          "execution_count": 45
        }
      ],
      "source": [
        "a * 2"
      ]
    },
    {
      "cell_type": "code",
      "execution_count": null,
      "metadata": {
        "colab": {
          "base_uri": "https://localhost:8080/"
        },
        "id": "FplwyLzqtdFZ",
        "outputId": "eb44927a-922b-4053-e378-f73629b5e5b6"
      },
      "outputs": [
        {
          "output_type": "execute_result",
          "data": {
            "text/plain": [
              "array([4, 5, 6, 7])"
            ]
          },
          "metadata": {},
          "execution_count": 46
        }
      ],
      "source": [
        "b = np.arange(4,8)\n",
        "\n",
        "b"
      ]
    },
    {
      "cell_type": "code",
      "execution_count": null,
      "metadata": {
        "colab": {
          "base_uri": "https://localhost:8080/"
        },
        "id": "hRvXv55ytdFd",
        "outputId": "19f19d12-0598-46a4-d21a-60d60e103455"
      },
      "outputs": [
        {
          "output_type": "execute_result",
          "data": {
            "text/plain": [
              "array([ 4,  6,  8, 10])"
            ]
          },
          "metadata": {},
          "execution_count": 47
        }
      ],
      "source": [
        "a + b "
      ]
    },
    {
      "cell_type": "code",
      "execution_count": null,
      "metadata": {
        "colab": {
          "base_uri": "https://localhost:8080/"
        },
        "id": "LF-P7gCotdFg",
        "outputId": "ae7620a2-fb55-41a8-8449-f4a957bebb52"
      },
      "outputs": [
        {
          "output_type": "execute_result",
          "data": {
            "text/plain": [
              "array([-4, -4, -4, -4])"
            ]
          },
          "metadata": {},
          "execution_count": 48
        }
      ],
      "source": [
        "a - b"
      ]
    },
    {
      "cell_type": "code",
      "execution_count": null,
      "metadata": {
        "colab": {
          "base_uri": "https://localhost:8080/",
          "height": 34
        },
        "id": "0QQT9kbStdFj",
        "outputId": "2510cf38-33a2-46e0-c312-496cc8897df5"
      },
      "outputs": [
        {
          "data": {
            "text/plain": [
              "array([ 0,  5, 12, 21])"
            ]
          },
          "execution_count": 50,
          "metadata": {},
          "output_type": "execute_result"
        }
      ],
      "source": [
        "a * b"
      ]
    },
    {
      "cell_type": "markdown",
      "metadata": {
        "id": "MAEi7zPktdFm"
      },
      "source": [
        "![](elementwise_addition.png)"
      ]
    },
    {
      "cell_type": "markdown",
      "metadata": {
        "id": "EZ4hiDybtdFp"
      },
      "source": [
        "Görüleceği üzere, NumPy dizileri elemanter düzeyde, yani her iki dizideki aynı indeksli eleman üzerinde aritmetik işlemi uygulayarak sonucu verir. Şekildeki örnekte, elemanter toplama işlemini görmektesiniz. \n",
        "\n",
        "![Elemanter Toplama İşlemi](https://drive.google.com/uc?id=1CCi4V6AoAJ4UXLgqIkqFqRftmpA-e6LW)"
      ]
    },
    {
      "cell_type": "code",
      "execution_count": null,
      "metadata": {
        "colab": {
          "base_uri": "https://localhost:8080/"
        },
        "id": "LKSGGQtdtdFq",
        "outputId": "84cfbad4-7d53-433f-8ab1-b1a109650c9d"
      },
      "outputs": [
        {
          "output_type": "execute_result",
          "data": {
            "text/plain": [
              "array([-0.        , -0.95892427, -0.558831  ,  1.9709598 ])"
            ]
          },
          "metadata": {},
          "execution_count": 49
        }
      ],
      "source": [
        "a * np.sin(b) # B dizisinin elemanlarının sinüs fonksiyonu karşılıklarını a dizisi ile çarpalım."
      ]
    },
    {
      "cell_type": "code",
      "execution_count": null,
      "metadata": {
        "colab": {
          "base_uri": "https://localhost:8080/"
        },
        "id": "qb2hW21_tdFv",
        "outputId": "e23f4cb6-a8ef-4024-eb06-d1587f40e885"
      },
      "outputs": [
        {
          "output_type": "execute_result",
          "data": {
            "text/plain": [
              "array([0.        , 2.23606798, 4.89897949, 7.93725393])"
            ]
          },
          "metadata": {},
          "execution_count": 50
        }
      ],
      "source": [
        "a * np.sqrt(b) # B dizisinin elemanlarının kareköklerini a dizisi ile çarpalım. "
      ]
    },
    {
      "cell_type": "markdown",
      "metadata": {
        "id": "dKQakZa8tdF0"
      },
      "source": [
        "### Alıştırma 6"
      ]
    },
    {
      "cell_type": "code",
      "execution_count": null,
      "metadata": {
        "colab": {
          "base_uri": "https://localhost:8080/"
        },
        "id": "AScWEwmetdF2",
        "outputId": "a97465be-e557-4dcd-de6c-67026a514fd2"
      },
      "outputs": [
        {
          "output_type": "execute_result",
          "data": {
            "text/plain": [
              "array([[0, 1, 2],\n",
              "       [3, 4, 5],\n",
              "       [6, 7, 8]])"
            ]
          },
          "metadata": {},
          "execution_count": 51
        }
      ],
      "source": [
        "A = np.arange(0, 9).reshape(3, 3)\n",
        "A"
      ]
    },
    {
      "cell_type": "code",
      "execution_count": null,
      "metadata": {
        "colab": {
          "base_uri": "https://localhost:8080/"
        },
        "id": "t6COrfM1tdF6",
        "outputId": "acebf658-00db-443e-9890-a53a3e6601e8"
      },
      "outputs": [
        {
          "output_type": "execute_result",
          "data": {
            "text/plain": [
              "array([[1., 1., 1.],\n",
              "       [1., 1., 1.],\n",
              "       [1., 1., 1.]])"
            ]
          },
          "metadata": {},
          "execution_count": 52
        }
      ],
      "source": [
        "B = np.ones((3, 3))\n",
        "B"
      ]
    },
    {
      "cell_type": "code",
      "execution_count": null,
      "metadata": {
        "colab": {
          "base_uri": "https://localhost:8080/",
          "height": 68
        },
        "id": "bOQPwg0btdGE",
        "outputId": "65f315fc-da29-4c3b-d167-91a1c4d0dcce"
      },
      "outputs": [
        {
          "data": {
            "text/plain": [
              "array([[0., 1., 2.],\n",
              "       [3., 4., 5.],\n",
              "       [6., 7., 8.]])"
            ]
          },
          "execution_count": 55,
          "metadata": {},
          "output_type": "execute_result"
        }
      ],
      "source": [
        "A*B"
      ]
    },
    {
      "cell_type": "markdown",
      "metadata": {
        "id": "bCGQX-rVtdGI"
      },
      "source": [
        "## 3.4 Matris Çarpımı"
      ]
    },
    {
      "cell_type": "markdown",
      "metadata": {
        "id": "ESwqMhk-tdGK"
      },
      "source": [
        "NumPy aritmetik işlemlerinde uyguladığımız elemanter düzeydeki çarpma işlemi (*), matris çarpımından farklıdır. \n",
        "\n",
        "Matris çarpımı için `dot()` fonksiyonu kullanılır. \n",
        "\n",
        "![Matris Çarpımı](https://drive.google.com/uc?id=1GtZRMTI1gQbLJe1HNqzDQQlpdU3tj9-y)"
      ]
    },
    {
      "cell_type": "markdown",
      "metadata": {
        "id": "osrAJfEjg3mz"
      },
      "source": [
        "Bir önceki alıştırmada kullandığımız A ve B matrisleri kullanalım. "
      ]
    },
    {
      "cell_type": "code",
      "execution_count": null,
      "metadata": {
        "colab": {
          "base_uri": "https://localhost:8080/",
          "height": 68
        },
        "id": "5D9Q--9EtdGL",
        "outputId": "c25691e0-b87c-47c4-ce92-ff1dbd522b22"
      },
      "outputs": [
        {
          "data": {
            "text/plain": [
              "array([[ 3.,  3.,  3.],\n",
              "       [12., 12., 12.],\n",
              "       [21., 21., 21.]])"
            ]
          },
          "execution_count": 56,
          "metadata": {},
          "output_type": "execute_result"
        }
      ],
      "source": [
        "np.dot(A,B)"
      ]
    },
    {
      "cell_type": "code",
      "execution_count": null,
      "metadata": {
        "colab": {
          "base_uri": "https://localhost:8080/",
          "height": 68
        },
        "id": "oP-YsC-htdGP",
        "outputId": "3caf89bb-1702-4112-b369-f32e0c95c7e6"
      },
      "outputs": [
        {
          "data": {
            "text/plain": [
              "array([[ 3.,  3.,  3.],\n",
              "       [12., 12., 12.],\n",
              "       [21., 21., 21.]])"
            ]
          },
          "execution_count": 57,
          "metadata": {},
          "output_type": "execute_result"
        }
      ],
      "source": [
        "A.dot(B) # bir diğer yazım şekli. "
      ]
    },
    {
      "cell_type": "markdown",
      "metadata": {
        "id": "g-qw-KahtdGS"
      },
      "source": [
        "Unutmayalım ki, matris çarpımında A * B ile B * A'nın sonuçları aynı değildir."
      ]
    },
    {
      "cell_type": "code",
      "execution_count": null,
      "metadata": {
        "colab": {
          "base_uri": "https://localhost:8080/",
          "height": 68
        },
        "id": "pUuIARyHtdGS",
        "outputId": "137da5d5-873c-4f71-80a3-43743e078d9d"
      },
      "outputs": [
        {
          "data": {
            "text/plain": [
              "array([[ 9., 12., 15.],\n",
              "       [ 9., 12., 15.],\n",
              "       [ 9., 12., 15.]])"
            ]
          },
          "execution_count": 58,
          "metadata": {},
          "output_type": "execute_result"
        }
      ],
      "source": [
        "B.dot(A)"
      ]
    },
    {
      "cell_type": "markdown",
      "metadata": {
        "id": "cdE1GA3stdGd"
      },
      "source": [
        "## 3.5 Artış - Azalış Operatörleri"
      ]
    },
    {
      "cell_type": "code",
      "execution_count": null,
      "metadata": {
        "colab": {
          "base_uri": "https://localhost:8080/",
          "height": 34
        },
        "id": "LJ6US3AAtdGf",
        "outputId": "3d0c2f3c-2311-4103-bf8a-86c8f1f40b4f"
      },
      "outputs": [
        {
          "data": {
            "text/plain": [
              "array([0, 1, 2, 3])"
            ]
          },
          "execution_count": 59,
          "metadata": {},
          "output_type": "execute_result"
        }
      ],
      "source": [
        "a = np.arange(4) # 0'dan başlayan dört elemanlı bir dizi oluşturalım.\n",
        "a"
      ]
    },
    {
      "cell_type": "code",
      "execution_count": null,
      "metadata": {
        "colab": {
          "base_uri": "https://localhost:8080/",
          "height": 34
        },
        "id": "NYCFeL6MtdGi",
        "outputId": "d1575c93-b127-454d-a77e-4139ee727443"
      },
      "outputs": [
        {
          "data": {
            "text/plain": [
              "array([1, 2, 3, 4])"
            ]
          },
          "execution_count": 60,
          "metadata": {},
          "output_type": "execute_result"
        }
      ],
      "source": [
        "a += 1  # bu dizideki elemanların her birini 1 artıralım.\n",
        "a"
      ]
    },
    {
      "cell_type": "code",
      "execution_count": null,
      "metadata": {
        "colab": {
          "base_uri": "https://localhost:8080/",
          "height": 34
        },
        "id": "pkyB-F7otdGm",
        "outputId": "ca8e0fdb-afe9-41e6-aed8-914494bd452b"
      },
      "outputs": [
        {
          "data": {
            "text/plain": [
              "array([0, 1, 2, 3])"
            ]
          },
          "execution_count": 61,
          "metadata": {},
          "output_type": "execute_result"
        }
      ],
      "source": [
        "a -= 1 # yeni dizideki elemanların her birini 1 azaltalım. \n",
        "a"
      ]
    },
    {
      "cell_type": "code",
      "execution_count": null,
      "metadata": {
        "colab": {
          "base_uri": "https://localhost:8080/",
          "height": 34
        },
        "id": "1JP-GyrmtdGs",
        "outputId": "0fbf7743-6e2f-45c2-a859-b72e856cd825"
      },
      "outputs": [
        {
          "data": {
            "text/plain": [
              "array([4, 5, 6, 7])"
            ]
          },
          "execution_count": 62,
          "metadata": {},
          "output_type": "execute_result"
        }
      ],
      "source": [
        "a += 4 # yeni dizideki elemanların her birini 4 artıralım\n",
        "a"
      ]
    },
    {
      "cell_type": "code",
      "execution_count": null,
      "metadata": {
        "colab": {
          "base_uri": "https://localhost:8080/",
          "height": 34
        },
        "id": "bgcDCITVtdGu",
        "outputId": "554a8afd-877d-4247-8867-abc92217a06c"
      },
      "outputs": [
        {
          "data": {
            "text/plain": [
              "array([ 8, 10, 12, 14])"
            ]
          },
          "execution_count": 63,
          "metadata": {},
          "output_type": "execute_result"
        }
      ],
      "source": [
        "a *= 2 # yeni dizideki elemanların her birini 2 ile çarpalım.\n",
        "a"
      ]
    },
    {
      "cell_type": "markdown",
      "metadata": {
        "id": "UHOdpGCGh9p1"
      },
      "source": [
        "Görüleceği üzere dizi üzerine uygulanan her işlem sonucunda yeni dizi, işlem sonuçları ile atanmaktadır. Ardışık işlem kullanılan (iterasyon) çalışmalarda artırma ve azaltma operatörleri oldukça işe yarayacaktır. "
      ]
    },
    {
      "cell_type": "markdown",
      "metadata": {
        "id": "vNBeNC69tdGx"
      },
      "source": [
        "## 3.6 Matematiksel ve Trigonometrik Operatörler"
      ]
    },
    {
      "cell_type": "code",
      "execution_count": null,
      "metadata": {
        "colab": {
          "base_uri": "https://localhost:8080/",
          "height": 34
        },
        "id": "OVKnIB3AtdGx",
        "outputId": "b2bd6d8d-10ee-446c-ac72-0c690f9e3abb"
      },
      "outputs": [
        {
          "data": {
            "text/plain": [
              "array([0, 1, 2])"
            ]
          },
          "execution_count": 64,
          "metadata": {},
          "output_type": "execute_result"
        }
      ],
      "source": [
        "B = np.arange(3)\n",
        "B"
      ]
    },
    {
      "cell_type": "code",
      "execution_count": null,
      "metadata": {
        "colab": {
          "base_uri": "https://localhost:8080/",
          "height": 34
        },
        "id": "ZV4oe8tntdG4",
        "outputId": "015a19fd-2164-4063-9c41-796d7c9f6950"
      },
      "outputs": [
        {
          "data": {
            "text/plain": [
              "array([1.        , 2.71828183, 7.3890561 ])"
            ]
          },
          "execution_count": 65,
          "metadata": {},
          "output_type": "execute_result"
        }
      ],
      "source": [
        "np.exp(B) # Dizinin eksponansiyel üstel değerleri"
      ]
    },
    {
      "cell_type": "code",
      "execution_count": null,
      "metadata": {
        "colab": {
          "base_uri": "https://localhost:8080/",
          "height": 34
        },
        "id": "uq0284iftdG7",
        "outputId": "5426e7be-99e0-4f9a-a543-6a6261448fa7"
      },
      "outputs": [
        {
          "data": {
            "text/plain": [
              "array([0.        , 1.        , 1.41421356])"
            ]
          },
          "execution_count": 66,
          "metadata": {},
          "output_type": "execute_result"
        }
      ],
      "source": [
        "np.sqrt(B) # Dizinin karekök değerleri"
      ]
    },
    {
      "cell_type": "code",
      "execution_count": null,
      "metadata": {
        "colab": {
          "base_uri": "https://localhost:8080/",
          "height": 34
        },
        "id": "NRgfJuSAtdG9",
        "outputId": "d16393db-cd78-4e5b-8845-d1129a2c674c"
      },
      "outputs": [
        {
          "data": {
            "text/plain": [
              "array([2., 0., 6.])"
            ]
          },
          "execution_count": 67,
          "metadata": {},
          "output_type": "execute_result"
        }
      ],
      "source": [
        "C = np.array([2., -1., 4.])\n",
        "C\n",
        "np.add(B,C) # add() fonksiyonu ile de elemanter toplam işlemi yapılabilir. "
      ]
    },
    {
      "cell_type": "code",
      "execution_count": null,
      "metadata": {
        "colab": {
          "base_uri": "https://localhost:8080/",
          "height": 34
        },
        "id": "YJ5Sjxv-tdG_",
        "outputId": "43bc1711-12af-4291-95b3-b0a9dae6263c"
      },
      "outputs": [
        {
          "data": {
            "text/plain": [
              "1.6666666666666667"
            ]
          },
          "execution_count": 68,
          "metadata": {},
          "output_type": "execute_result"
        }
      ],
      "source": [
        "np.average(C) # C dizisinin elemanlarının ağırlıklı ortalaması"
      ]
    },
    {
      "cell_type": "code",
      "execution_count": null,
      "metadata": {
        "colab": {
          "base_uri": "https://localhost:8080/",
          "height": 34
        },
        "id": "UOVkOYZptdHE",
        "outputId": "0f5b8eea-2f4e-4cdd-f419-866357570a84"
      },
      "outputs": [
        {
          "data": {
            "text/plain": [
              "array([3., 2., 6.])"
            ]
          },
          "execution_count": 69,
          "metadata": {},
          "output_type": "execute_result"
        }
      ],
      "source": [
        "D = np.array([2.31124, 1.45345, 5.3212])\n",
        "np.ceil(D)   # D dizisinin elemanları yukarı yönlü yuvarlanır."
      ]
    },
    {
      "cell_type": "code",
      "execution_count": null,
      "metadata": {
        "colab": {
          "base_uri": "https://localhost:8080/",
          "height": 34
        },
        "id": "eVDx83fstdHH",
        "outputId": "0c6ded15-a64c-4bf8-987c-1de6b4177e2f"
      },
      "outputs": [
        {
          "data": {
            "text/plain": [
              "array([-2., -2., -1.,  0.,  1.,  1.,  2.])"
            ]
          },
          "execution_count": 70,
          "metadata": {},
          "output_type": "execute_result"
        }
      ],
      "source": [
        "E = np.array([-1.7, -1.5, -0.2, 0.2, 1.5, 1.7, 2.0]) \n",
        "np.floor(E)   # E dizisinin elemanları aşağı yönlü yuvarlanır."
      ]
    },
    {
      "cell_type": "code",
      "execution_count": null,
      "metadata": {
        "colab": {
          "base_uri": "https://localhost:8080/",
          "height": 34
        },
        "id": "zf6-Ltg4tdHK",
        "outputId": "e3b983ba-ebdd-49f2-c255-4ec165456370"
      },
      "outputs": [
        {
          "data": {
            "text/plain": [
              "4.5"
            ]
          },
          "execution_count": 71,
          "metadata": {},
          "output_type": "execute_result"
        }
      ],
      "source": [
        "F = np.array([[10, 7, 4], [3, 2, 1]]) \n",
        "np.mean(F) # Dizideki elemanların aritmetik ortalaması. "
      ]
    },
    {
      "cell_type": "code",
      "execution_count": null,
      "metadata": {
        "colab": {
          "base_uri": "https://localhost:8080/",
          "height": 34
        },
        "id": "FVZ6dCdxtdHN",
        "outputId": "fec10660-c987-4203-c12e-3dfbc59885e4"
      },
      "outputs": [
        {
          "data": {
            "text/plain": [
              "3.5"
            ]
          },
          "execution_count": 72,
          "metadata": {},
          "output_type": "execute_result"
        }
      ],
      "source": [
        "np.median(F) # Dizideki elemanların medyanı. "
      ]
    },
    {
      "cell_type": "code",
      "execution_count": null,
      "metadata": {
        "colab": {
          "base_uri": "https://localhost:8080/",
          "height": 34
        },
        "id": "P73RI5e5tdHQ",
        "outputId": "ff1a4f27-e87d-4946-c8a5-8396cb88c4ad"
      },
      "outputs": [
        {
          "data": {
            "text/plain": [
              "10"
            ]
          },
          "execution_count": 73,
          "metadata": {},
          "output_type": "execute_result"
        }
      ],
      "source": [
        "np.max(F) # Dizideki elemanların en büyüğü."
      ]
    },
    {
      "cell_type": "code",
      "execution_count": null,
      "metadata": {
        "colab": {
          "base_uri": "https://localhost:8080/",
          "height": 34
        },
        "id": "7cyg_DWqtdHT",
        "outputId": "53dbc7c4-b736-4173-a954-996bf2c1c2c0"
      },
      "outputs": [
        {
          "data": {
            "text/plain": [
              "1"
            ]
          },
          "execution_count": 74,
          "metadata": {},
          "output_type": "execute_result"
        }
      ],
      "source": [
        "np.min(F) # Dizideki elemanların en küçüğü."
      ]
    },
    {
      "cell_type": "code",
      "execution_count": null,
      "metadata": {
        "colab": {
          "base_uri": "https://localhost:8080/",
          "height": 34
        },
        "id": "TpOe2RuRtdHV",
        "outputId": "5ec801ee-ee82-4019-e8a7-acf741393297"
      },
      "outputs": [
        {
          "data": {
            "text/plain": [
              "9.583333333333334"
            ]
          },
          "execution_count": 75,
          "metadata": {},
          "output_type": "execute_result"
        }
      ],
      "source": [
        "np.var(F)  # Dizideki elemanların varyansı."
      ]
    },
    {
      "cell_type": "code",
      "execution_count": null,
      "metadata": {
        "colab": {
          "base_uri": "https://localhost:8080/",
          "height": 34
        },
        "id": "9E_084UktdHX",
        "outputId": "17f28a91-8995-4acb-c546-eb1c163fa043"
      },
      "outputs": [
        {
          "data": {
            "text/plain": [
              "3.095695936834452"
            ]
          },
          "execution_count": 76,
          "metadata": {},
          "output_type": "execute_result"
        }
      ],
      "source": [
        "np.std(F) # Dizideki elemanların standart sapması."
      ]
    },
    {
      "cell_type": "code",
      "execution_count": null,
      "metadata": {
        "colab": {
          "base_uri": "https://localhost:8080/",
          "height": 51
        },
        "id": "9GocWchrtdHa",
        "outputId": "0b333968-a22e-4cbd-cbd3-cf2461c9d2e0"
      },
      "outputs": [
        {
          "data": {
            "text/plain": [
              "array([[0, 1],\n",
              "       [2, 3]])"
            ]
          },
          "execution_count": 77,
          "metadata": {},
          "output_type": "execute_result"
        }
      ],
      "source": [
        "G = np.arange(4).reshape((2,2))\n",
        "G"
      ]
    },
    {
      "cell_type": "code",
      "execution_count": null,
      "metadata": {
        "colab": {
          "base_uri": "https://localhost:8080/",
          "height": 51
        },
        "id": "6BAmAXwmtdHc",
        "outputId": "07c486fc-9f63-4b3d-ab16-98aa197748a6"
      },
      "outputs": [
        {
          "data": {
            "text/plain": [
              "array([[0, 2],\n",
              "       [1, 3]])"
            ]
          },
          "execution_count": 78,
          "metadata": {},
          "output_type": "execute_result"
        }
      ],
      "source": [
        "np.transpose(G) # G matrisinin transpozu"
      ]
    },
    {
      "cell_type": "code",
      "execution_count": null,
      "metadata": {
        "colab": {
          "base_uri": "https://localhost:8080/",
          "height": 51
        },
        "id": "FlL__reFtdHf",
        "outputId": "3626fc0d-433c-4b87-e86b-cc0db3cab6f7"
      },
      "outputs": [
        {
          "data": {
            "text/plain": [
              "array([[-1.5,  0.5],\n",
              "       [ 1. ,  0. ]])"
            ]
          },
          "execution_count": 79,
          "metadata": {},
          "output_type": "execute_result"
        }
      ],
      "source": [
        "np.linalg.inv(G) # G matrisinin tersi (inversi)"
      ]
    },
    {
      "cell_type": "code",
      "execution_count": null,
      "metadata": {
        "colab": {
          "base_uri": "https://localhost:8080/",
          "height": 34
        },
        "id": "gjnAmkqAtdHm",
        "outputId": "4a8c0140-9ca3-4d5b-bbf8-f9aca6a1065a"
      },
      "outputs": [
        {
          "data": {
            "text/plain": [
              "array([0., 1., 2.])"
            ]
          },
          "execution_count": 80,
          "metadata": {},
          "output_type": "execute_result"
        }
      ],
      "source": [
        "np.log([1, np.e, np.e**2]) # Verilen dizinin e tabanında logaritması (Neper logaritması - ln fonksiyonu)\n",
        "# (e sayısı burada da, pi sayısı NumPy kütüphanesinde tanımlıdır.)"
      ]
    },
    {
      "cell_type": "code",
      "execution_count": null,
      "metadata": {
        "colab": {
          "base_uri": "https://localhost:8080/",
          "height": 34
        },
        "id": "Vb-RcHbOtdHp",
        "outputId": "06df70bc-b9dc-477c-94e5-b6bdaff5d00c"
      },
      "outputs": [
        {
          "data": {
            "text/plain": [
              "array([-15.,  10.])"
            ]
          },
          "execution_count": 81,
          "metadata": {},
          "output_type": "execute_result"
        }
      ],
      "source": [
        "np.log10([1e-15, 1e10]) # Verilen dizinin 10 tabanında logaritması. (1e-15 = 10^-15, 1e10 = 10^10)"
      ]
    },
    {
      "cell_type": "code",
      "execution_count": null,
      "metadata": {
        "colab": {
          "base_uri": "https://localhost:8080/",
          "height": 34
        },
        "id": "9yDOSgn7tdHs",
        "outputId": "52b50a40-a15b-4aaa-e450-86c26a6f5a57"
      },
      "outputs": [
        {
          "data": {
            "text/plain": [
              "array([0., 1., 4.])"
            ]
          },
          "execution_count": 82,
          "metadata": {},
          "output_type": "execute_result"
        }
      ],
      "source": [
        "np.log2([1, 2, 2**4])  # Verilen dizinin 2 tabanında logaritması."
      ]
    },
    {
      "cell_type": "code",
      "execution_count": null,
      "metadata": {
        "colab": {
          "base_uri": "https://localhost:8080/",
          "height": 34
        },
        "id": "6K7-ADantdHv",
        "outputId": "3b59e513-f6a5-4f82-96f4-174fb7fc7e59"
      },
      "outputs": [
        {
          "data": {
            "text/plain": [
              "1.0"
            ]
          },
          "execution_count": 83,
          "metadata": {},
          "output_type": "execute_result"
        }
      ],
      "source": [
        "np.sin(np.pi/2.)  # Radyan cinsinden verilen açının sinüsü."
      ]
    },
    {
      "cell_type": "code",
      "execution_count": null,
      "metadata": {
        "colab": {
          "base_uri": "https://localhost:8080/",
          "height": 34
        },
        "id": "DeUt2X02tdHx",
        "outputId": "3d76b938-b48e-4fc8-ed82-bd11948d1fcd"
      },
      "outputs": [
        {
          "data": {
            "text/plain": [
              "array([0.        , 0.5       , 0.70710678, 0.8660254 , 1.        ])"
            ]
          },
          "execution_count": 84,
          "metadata": {},
          "output_type": "execute_result"
        }
      ],
      "source": [
        "np.sin(np.array((0., 30., 45., 60., 90.)) * np.pi / 180. ) # Verilen açılar derece cinsinden ise, radyana çevrilmelidir. "
      ]
    },
    {
      "cell_type": "code",
      "execution_count": null,
      "metadata": {
        "colab": {
          "base_uri": "https://localhost:8080/",
          "height": 34
        },
        "id": "bUbWHWNKtdHz",
        "outputId": "bc510130-21ef-4385-868c-be356002686b"
      },
      "outputs": [
        {
          "data": {
            "text/plain": [
              "array([0.        , 1.        , 0.95105652])"
            ]
          },
          "execution_count": 85,
          "metadata": {},
          "output_type": "execute_result"
        }
      ],
      "source": [
        "np.sin(np.array((0., 100., 120.)) * np.pi / 200. ) # Verilen açılar grad cinsinden ise, radyana çevrilmelidir. "
      ]
    },
    {
      "cell_type": "code",
      "execution_count": null,
      "metadata": {
        "colab": {
          "base_uri": "https://localhost:8080/",
          "height": 34
        },
        "id": "hVxu8HVUtdH2",
        "outputId": "b3f20eec-9d34-423f-b9da-6d0d15cdbfc8"
      },
      "outputs": [
        {
          "data": {
            "text/plain": [
              "1.5707963267948966"
            ]
          },
          "execution_count": 86,
          "metadata": {},
          "output_type": "execute_result"
        }
      ],
      "source": [
        "np.arcsin(1)     # pi/2'nin arcsinüsü (birim çemberdeki Y koordinatı)"
      ]
    },
    {
      "cell_type": "code",
      "execution_count": null,
      "metadata": {
        "colab": {
          "base_uri": "https://localhost:8080/",
          "height": 34
        },
        "id": "Hm-F3-6EtdH4",
        "outputId": "307cc9cb-1adc-4f5e-d3e2-659d6c0c82ca"
      },
      "outputs": [
        {
          "data": {
            "text/plain": [
              "array([ 1.000000e+00,  6.123234e-17, -1.000000e+00])"
            ]
          },
          "execution_count": 87,
          "metadata": {},
          "output_type": "execute_result"
        }
      ],
      "source": [
        "np.cos(np.array([0, np.pi/2, np.pi])) # Radyan cinsinden verilen açıların kosinüsü.  "
      ]
    },
    {
      "cell_type": "markdown",
      "metadata": {
        "id": "5vFexGjUtdIP"
      },
      "source": [
        "## 3.7 Sayısal Veri Türleri Arasında Dönüşüm\n",
        "NumPy üzerinde bir dizi atandığında, dizinin içindeki sayısal verilerin türünü de belirleyebiliriz. Bunun için `np.array` fonksiyonu içinde diziyi tanımladıktan sonra, `dtype` argümanını float sayılar için `np.float`, integer sayılar için `np.int`, complex sayılar için `np.complex` şeklinde atamak zorundayız. Örneğin;"
      ]
    },
    {
      "cell_type": "code",
      "execution_count": null,
      "metadata": {
        "colab": {
          "base_uri": "https://localhost:8080/",
          "height": 34
        },
        "id": "lPCNBd-ntdIP",
        "outputId": "2b1087d7-463e-4bbe-dede-24fced6d7d5d"
      },
      "outputs": [
        {
          "data": {
            "text/plain": [
              "array([1., 2., 3.])"
            ]
          },
          "execution_count": 88,
          "metadata": {},
          "output_type": "execute_result"
        }
      ],
      "source": [
        "data = np.array([1,2,3], dtype = np.float) # atadığımız dizinin sayısal elemanları float türünde olsun. \n",
        "data"
      ]
    },
    {
      "cell_type": "markdown",
      "metadata": {
        "id": "lXGyQ2B_lQs4"
      },
      "source": [
        "`astype()` fonksiyonu ile dizilerin sayısal veri türünü değiştirebilmekteyiz. data dizisi `float` cinsinden sayısal verilere sahipti. Bu dizinin elemanlarını `int` cinsine çevirelim. "
      ]
    },
    {
      "cell_type": "code",
      "execution_count": null,
      "metadata": {
        "colab": {
          "base_uri": "https://localhost:8080/",
          "height": 34
        },
        "id": "nBqxDF88tdIS",
        "outputId": "8a8ba7d8-62d8-480c-fdfd-65d56766d322"
      },
      "outputs": [
        {
          "data": {
            "text/plain": [
              "array([1, 2, 3])"
            ]
          },
          "execution_count": 89,
          "metadata": {},
          "output_type": "execute_result"
        }
      ],
      "source": [
        "data.astype(np.int)"
      ]
    },
    {
      "cell_type": "markdown",
      "metadata": {
        "id": "J_I8EHojtdIU"
      },
      "source": [
        "Float cinsinden bir seri ile complex cinsinden bir seri üzerinde işlem yapıldığında, sonuçlar complex cinsinden olacaktır."
      ]
    },
    {
      "cell_type": "code",
      "execution_count": null,
      "metadata": {
        "colab": {
          "base_uri": "https://localhost:8080/",
          "height": 34
        },
        "id": "bdFZmqGltdIV",
        "outputId": "d756cb9b-a536-42bc-9acc-104a56b0eb0a"
      },
      "outputs": [
        {
          "data": {
            "text/plain": [
              "array([2.+0.j, 4.+0.j, 6.+0.j])"
            ]
          },
          "execution_count": 90,
          "metadata": {},
          "output_type": "execute_result"
        }
      ],
      "source": [
        "d1 = np.array([1, 2, 3], dtype = float)\n",
        "d2 = np.array([1, 2, 3], dtype = complex)\n",
        "d1 + d2"
      ]
    },
    {
      "cell_type": "code",
      "execution_count": null,
      "metadata": {
        "colab": {
          "base_uri": "https://localhost:8080/",
          "height": 34
        },
        "id": "EI3wkYMVtdIX",
        "outputId": "1669a75d-65fd-4730-c9b6-f4d2f086236a"
      },
      "outputs": [
        {
          "data": {
            "text/plain": [
              "dtype('complex128')"
            ]
          },
          "execution_count": 91,
          "metadata": {},
          "output_type": "execute_result"
        }
      ],
      "source": [
        "(d1+d2).dtype # buradan sonucun 128 bit complex sayılardan oluşmuş bir dizi halinde verildiği anlaşılmaktadır."
      ]
    },
    {
      "cell_type": "markdown",
      "metadata": {
        "id": "WQCh-U-QtdIZ"
      },
      "source": [
        "Dizilere herhangi bir veri türü tayin edilmediğinde, default olarak float türü sayılar atanır. Aşağıdaki dizinin karekökünü almaya çalışalım."
      ]
    },
    {
      "cell_type": "code",
      "execution_count": null,
      "metadata": {
        "colab": {
          "base_uri": "https://localhost:8080/",
          "height": 68
        },
        "id": "6w5vrBWWtdIZ",
        "outputId": "94cb252c-d1e3-4b85-801a-ad5e82596f8d"
      },
      "outputs": [
        {
          "name": "stderr",
          "output_type": "stream",
          "text": [
            "<ipython-input-21-cc10ba3a021e>:1: RuntimeWarning: invalid value encountered in sqrt\n",
            "  np.sqrt(np.array([-1, 0 , 1]))\n"
          ]
        },
        {
          "data": {
            "text/plain": [
              "array([nan,  0.,  1.])"
            ]
          },
          "execution_count": 21,
          "metadata": {},
          "output_type": "execute_result"
        }
      ],
      "source": [
        "np.sqrt(np.array([-1, 0 , 1]))"
      ]
    },
    {
      "cell_type": "markdown",
      "metadata": {
        "id": "cjtjzKgemDT7"
      },
      "source": [
        "Görüleceği üzere dizimizin ilk elemanı -1 float cinsinden atandığı için, karekök fonksiyonu dizide imajiner sayı olmadığı için tanımsızdır ve hata mesajı almaktayız. Aynı diziyi complex sayı olarak yeniden tayin ettiğimizde, dizinin karekökü alınacaktır."
      ]
    },
    {
      "cell_type": "code",
      "execution_count": null,
      "metadata": {
        "colab": {
          "base_uri": "https://localhost:8080/",
          "height": 34
        },
        "id": "x25vmslWtdIc",
        "outputId": "ee20b905-90ca-4ddc-e8d1-a2c47745d2a1"
      },
      "outputs": [
        {
          "data": {
            "text/plain": [
              "array([0.+1.j, 0.+0.j, 1.+0.j])"
            ]
          },
          "execution_count": 93,
          "metadata": {},
          "output_type": "execute_result"
        }
      ],
      "source": [
        "np.sqrt(np.array([-1, 0 , 1], dtype = complex))"
      ]
    },
    {
      "cell_type": "markdown",
      "metadata": {
        "id": "6Qx0AyPXtdIe"
      },
      "source": [
        "## 3.8 Dizileri Yeniden Boyutlandırma"
      ]
    },
    {
      "cell_type": "markdown",
      "metadata": {
        "id": "C14DG33ZtdIe"
      },
      "source": [
        "İki listeden oluşan bir NumPy dizisi oluşturalım ve bunu mxn boyutlarında bir matrise dönüştürelim. Bunun için `.reshape(dizi,(m,n))` yöntemi kullanılır. Örneğin; "
      ]
    },
    {
      "cell_type": "code",
      "execution_count": null,
      "metadata": {
        "colab": {
          "base_uri": "https://localhost:8080/",
          "height": 34
        },
        "id": "Yt8bBQC9tdIf",
        "outputId": "4ac1c4b7-10ee-4191-ef2c-f858035975d6"
      },
      "outputs": [
        {
          "data": {
            "text/plain": [
              "array([[1, 2, 3, 4]])"
            ]
          },
          "execution_count": 27,
          "metadata": {},
          "output_type": "execute_result"
        }
      ],
      "source": [
        "data = np.array([[1, 2], [3, 4]])\n",
        "np.reshape(data,(1,4))\n",
        "# data.reshape(1,4)"
      ]
    },
    {
      "cell_type": "code",
      "execution_count": null,
      "metadata": {
        "colab": {
          "base_uri": "https://localhost:8080/",
          "height": 68
        },
        "id": "s1at748EnSv4",
        "outputId": "42819f3a-fa1f-4183-8a98-7cffdadb798b"
      },
      "outputs": [
        {
          "name": "stdout",
          "output_type": "stream",
          "text": [
            "[[1 2]\n",
            " [3 4]]\n",
            "<class 'numpy.ndarray'>\n"
          ]
        }
      ],
      "source": [
        "print(data)\n",
        "print(type(data)) # Görüleceği üzere, orijinal veriyi yaptığımız yeniden boyutlandırma işlemi değiştirmeyecek. data dizisi orijinal haliyle duruyor."
      ]
    },
    {
      "cell_type": "code",
      "execution_count": null,
      "metadata": {
        "colab": {
          "base_uri": "https://localhost:8080/",
          "height": 34
        },
        "id": "go3RLrm-tdIh",
        "outputId": "84ae949b-bbb6-4ebd-99e2-36c548b53eeb"
      },
      "outputs": [
        {
          "data": {
            "text/plain": [
              "array([1, 2, 3, 4])"
            ]
          },
          "execution_count": 40,
          "metadata": {},
          "output_type": "execute_result"
        }
      ],
      "source": [
        "data.reshape(4) # Orijinal diziyi 4 elemanlı bir dizi haline getirelim. "
      ]
    },
    {
      "cell_type": "markdown",
      "metadata": {
        "id": "h5Nk6buEoLeI"
      },
      "source": [
        "`np.ravel` fonksiyonu, `reshape(n)` fonksiyonunu kullanmadan çok boyutlu bir dizinin tüm satır ve sütunlarını yok ederek, tek boyutlu bir dizi yaratır."
      ]
    },
    {
      "cell_type": "code",
      "execution_count": null,
      "metadata": {
        "colab": {
          "base_uri": "https://localhost:8080/",
          "height": 34
        },
        "id": "Q5CRwxvWobJS",
        "outputId": "05b6ed6e-22ad-4653-f51f-9cb2c11e16f6"
      },
      "outputs": [
        {
          "data": {
            "text/plain": [
              "array([1, 2, 3, 4])"
            ]
          },
          "execution_count": 41,
          "metadata": {},
          "output_type": "execute_result"
        }
      ],
      "source": [
        "np.ravel(data)"
      ]
    },
    {
      "cell_type": "markdown",
      "metadata": {
        "id": "ReJUvW0FtdIj"
      },
      "source": [
        "np.flatten fonksiyonu da aynı işlevi görmektedir. Ancak, oluşturulan yeni diziyi kayıt altına almaktadır. "
      ]
    },
    {
      "cell_type": "code",
      "execution_count": null,
      "metadata": {
        "colab": {
          "base_uri": "https://localhost:8080/",
          "height": 51
        },
        "id": "eTxdvKLntdIk",
        "outputId": "1f4525dc-6ec9-4e56-cadd-a6a1fd815c11"
      },
      "outputs": [
        {
          "data": {
            "text/plain": [
              "array([[1, 2],\n",
              "       [3, 4]])"
            ]
          },
          "execution_count": 98,
          "metadata": {},
          "output_type": "execute_result"
        }
      ],
      "source": [
        "data = np.array([[1,2],[3,4]])\n",
        "data"
      ]
    },
    {
      "cell_type": "code",
      "execution_count": null,
      "metadata": {
        "colab": {
          "base_uri": "https://localhost:8080/",
          "height": 34
        },
        "id": "tKUfCkjFtdIm",
        "outputId": "8c20fcb2-96a5-4493-eed9-84857b403d4a"
      },
      "outputs": [
        {
          "data": {
            "text/plain": [
              "array([1, 2, 3, 4])"
            ]
          },
          "execution_count": 99,
          "metadata": {},
          "output_type": "execute_result"
        }
      ],
      "source": [
        "data.flatten()"
      ]
    },
    {
      "cell_type": "code",
      "execution_count": null,
      "metadata": {
        "colab": {
          "base_uri": "https://localhost:8080/",
          "height": 34
        },
        "id": "ypGrcUuJtdIo",
        "outputId": "93160a69-d111-489e-88f4-dfaacfeab941"
      },
      "outputs": [
        {
          "data": {
            "text/plain": [
              "(4,)"
            ]
          },
          "execution_count": 100,
          "metadata": {},
          "output_type": "execute_result"
        }
      ],
      "source": [
        "data.flatten().shape"
      ]
    }
  ],
  "metadata": {
    "colab": {
      "collapsed_sections": [],
      "name": "Numpy_kutuphaneler ve NumPy kutuphanesinin temelleri.ipynb",
      "provenance": [],
      "include_colab_link": true
    },
    "kernelspec": {
      "display_name": "Python 3",
      "language": "python",
      "name": "python3"
    },
    "language_info": {
      "codemirror_mode": {
        "name": "ipython",
        "version": 3
      },
      "file_extension": ".py",
      "mimetype": "text/x-python",
      "name": "python",
      "nbconvert_exporter": "python",
      "pygments_lexer": "ipython3",
      "version": "3.8.8"
    }
  },
  "nbformat": 4,
  "nbformat_minor": 0
}